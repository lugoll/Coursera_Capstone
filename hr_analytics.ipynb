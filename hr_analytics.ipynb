{
  "nbformat": 4,
  "nbformat_minor": 0,
  "metadata": {
    "colab": {
      "name": "Untitled4.ipynb",
      "provenance": [],
      "authorship_tag": "ABX9TyO280M9dhB6uQdAbjCwzWeT",
      "include_colab_link": true
    },
    "kernelspec": {
      "name": "python3",
      "display_name": "Python 3"
    }
  },
  "cells": [
    {
      "cell_type": "markdown",
      "metadata": {
        "id": "view-in-github",
        "colab_type": "text"
      },
      "source": [
        "<a href=\"https://colab.research.google.com/github/lugoll/Coursera_Capstone/blob/main/hr_analytics.ipynb\" target=\"_parent\"><img src=\"https://colab.research.google.com/assets/colab-badge.svg\" alt=\"Open In Colab\"/></a>"
      ]
    },
    {
      "cell_type": "markdown",
      "metadata": {
        "id": "BKrJl0_LiOe1"
      },
      "source": [
        "#Erklären der Mitarbeiterfluktuation\n",
        "\n",
        "Anhand des fiktiven [IBM HR Analytics Employee Attrition and Performance](https://www.kaggle.com/pavansubhasht/ibm-hr-analytics-attrition-dataset) Datensatzes soll die Mitarbeiterfluktuation in einem Unternehmen erkläre werden. Dies findet im Rahmen einer Seminararbeit für das Studiummodul Big Data and Data Science statt."
      ]
    },
    {
      "cell_type": "code",
      "metadata": {
        "id": "qyBDj9DhiGs4"
      },
      "source": [
        ""
      ],
      "execution_count": null,
      "outputs": []
    }
  ]
}