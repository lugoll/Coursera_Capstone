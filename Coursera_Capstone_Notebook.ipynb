{
  "nbformat": 4,
  "nbformat_minor": 0,
  "metadata": {
    "colab": {
      "name": "Untitled0.ipynb",
      "provenance": [],
      "authorship_tag": "ABX9TyNzWnHySam7qDgOSs52prM7",
      "include_colab_link": true
    },
    "kernelspec": {
      "name": "python3",
      "display_name": "Python 3"
    }
  },
  "cells": [
    {
      "cell_type": "markdown",
      "metadata": {
        "id": "view-in-github",
        "colab_type": "text"
      },
      "source": [
        "<a href=\"https://colab.research.google.com/github/lugoll/Coursera_Capstone/blob/main/Coursera_Capstone_Notebook.ipynb\" target=\"_parent\"><img src=\"https://colab.research.google.com/assets/colab-badge.svg\" alt=\"Open In Colab\"/></a>"
      ]
    },
    {
      "cell_type": "markdown",
      "metadata": {
        "id": "Ynkt7td8rA45"
      },
      "source": [
        "# Coursera Capstone Project\n",
        "\n",
        "This is the Jupyter notebook which is mainly used by Lukas Gollasch for the Cousera Capstone Project in the Data Science Course."
      ]
    },
    {
      "cell_type": "code",
      "metadata": {
        "id": "1kYvAfh6rBhE"
      },
      "source": [
        "import pandas as pd\n",
        "import numpy as np"
      ],
      "execution_count": 4,
      "outputs": []
    },
    {
      "cell_type": "code",
      "metadata": {
        "id": "CEM9XyLZqkdf",
        "outputId": "8cb4ba0a-35c7-4d6f-ecc0-5ff759a17c00",
        "colab": {
          "base_uri": "https://localhost:8080/",
          "height": 35
        }
      },
      "source": [
        "print(\"Hello Capstone Project Course!\")"
      ],
      "execution_count": 5,
      "outputs": [
        {
          "output_type": "stream",
          "text": [
            "Hello Capstone Project Course!\n"
          ],
          "name": "stdout"
        }
      ]
    },
    {
      "cell_type": "markdown",
      "metadata": {
        "id": "5o1wYjVLrB9E"
      },
      "source": [
        ""
      ]
    }
  ]
}